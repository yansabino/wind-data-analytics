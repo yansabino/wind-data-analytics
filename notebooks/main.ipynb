{
 "cells": [
  {
   "cell_type": "code",
   "execution_count": null,
   "metadata": {},
   "outputs": [],
   "source": [
    "import sys\n",
    "sys.path.append('../src')\n",
    "\n",
    "from extract import fetch_data_from_arcgis\n",
    "from process import process_data\n",
    "from storage import save_for_tableau\n",
    "from utils import log\n",
    "\n",
    "# Configurações\n",
    "API_URL = \"https://sigel.aneel.gov.br/arcgis/rest/services/PORTAL/WFS/MapServer/0/query\"\n",
    "PARAMS = {\n",
    "    \"where\": \"1=1\",\n",
    "    \"outFields\": \"*\",\n",
    "    \"f\": \"json\"\n",
    "}\n",
    "\n",
    "log(\"Iniciando extração de dados...\")\n",
    "df_raw = fetch_data_from_arcgis(API_URL, PARAMS)\n",
    "\n",
    "log(\"Processando dados...\")\n",
    "processed_gdf = process_data(df_raw)\n",
    "\n",
    "log(\"Salvando dados para Tableau...\")\n",
    "save_for_tableau(processed_gdf, \"../data/processed/aerogeradores.csv\")\n",
    "\n",
    "log(\"Pipeline finalizado!\")"
   ]
  }
 ],
 "metadata": {
  "kernelspec": {
   "display_name": ".venv",
   "language": "python",
   "name": "python3"
  },
  "language_info": {
   "codemirror_mode": {
    "name": "ipython",
    "version": 3
   },
   "file_extension": ".py",
   "mimetype": "text/x-python",
   "name": "python",
   "nbconvert_exporter": "python",
   "pygments_lexer": "ipython3",
   "version": "3.11.0rc1"
  }
 },
 "nbformat": 4,
 "nbformat_minor": 2
}
